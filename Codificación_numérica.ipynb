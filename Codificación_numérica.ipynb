{
 "cells": [
  {
   "cell_type": "code",
   "execution_count": null,
   "id": "d3750b91",
   "metadata": {},
   "outputs": [],
   "source": [
    "# Tras la ejecución de \"TFM_SergioOrtigosaMartinez.R\""
   ]
  },
  {
   "cell_type": "code",
   "execution_count": 21,
   "id": "0ba28fb4",
   "metadata": {},
   "outputs": [],
   "source": [
    "# Librerías básicas\n",
    "import pandas as pd\n",
    "import numpy as np\n",
    "import matplotlib.pyplot as plt\n",
    "from dython.nominal import associations"
   ]
  },
  {
   "cell_type": "code",
   "execution_count": 22,
   "id": "cc2ca4e0",
   "metadata": {},
   "outputs": [],
   "source": [
    "# INTRODUCIR LA RUTA DONDE SE HAYA GUARDADO EL ARCHIVO\n",
    "# El archivo guardado se llama \"Dataset_Cod_Python\"\n",
    "data = pd.read_excel('INTRODUCIR_RUTA_ARCHIVO_GUARDADO/Dataset_Cod_Python.xlsx')"
   ]
  },
  {
   "cell_type": "code",
   "execution_count": 23,
   "id": "f1a3fc67",
   "metadata": {},
   "outputs": [],
   "source": [
    "data = data.astype('object')"
   ]
  },
  {
   "cell_type": "code",
   "execution_count": 24,
   "id": "7ff820c7",
   "metadata": {},
   "outputs": [],
   "source": [
    "data_dummy = data.copy()"
   ]
  },
  {
   "cell_type": "code",
   "execution_count": 25,
   "id": "1d20660e",
   "metadata": {},
   "outputs": [],
   "source": [
    "#Label encoding\n",
    "data_le = data_dummy.replace({'expiration':{'2h': 0, '1d' : 1},\n",
    "                    'gender':{'Male': 0, 'Female' : 1},\n",
    "                    'age':{'Teen': 0, 'Youth': 1, 'Adult': 2, 'Elderly': 3},\n",
    "                    'education':{'Some High School': 0, 'High School Graduate': 1, 'Some college - no degree': 2, 'Associates degree': 3, 'Bachelors degree': 4, 'Graduate degree (Masters or Doctorate)': 5},\n",
    "                    'Bar':{'never': 0, 'less1': 1, '1~3': 2, '4~8': 3, 'gt8': 4},\n",
    "                    'CoffeeHouse':{'never': 0, 'less1': 1, '1~3': 2, '4~8': 3, 'gt8': 4}, \n",
    "                    'CarryAway':{'never': 0, 'less1': 1, '1~3': 2, '4~8': 3, 'gt8': 4}, \n",
    "                    'RestaurantLessThan20':{'never': 0, 'less1': 1, '1~3': 2, '4~8': 3, 'gt8': 4}, \n",
    "                    'Restaurant20To50':{'never': 0, 'less1': 1, '1~3': 2, '4~8': 3, 'gt8': 4},\n",
    "                    'temperature':{-1: 0, 13: 1, 27: 2},\n",
    "                    'time_toCoupon':{'Nearly': 0, 'Medium': 1, 'FarAway': 2},\n",
    "                    'income':{'Less than $12500':0, '$12500 - $24999':1, '$25000 - $37499':2, '$37500 - $49999':3, '$50000 - $62499':4, '$62500 - $74999':5, '$75000 - $87499':6, '$87500 - $99999':7, '$100000 or More':8},\n",
    "                    'time':{'7AM':0, '10AM':1, '2PM':2, '6PM':3, '10PM':4}})"
   ]
  },
  {
   "cell_type": "code",
   "execution_count": 26,
   "id": "8d235d0f",
   "metadata": {},
   "outputs": [],
   "source": [
    "# One-Hot enconding\n",
    "ohe_cat = ['destination', 'passanger', 'maritalStatus', 'occupation', 'coupon', 'weather']\n",
    "data_ohe_cat = pd.get_dummies(data_dummy[ohe_cat], columns=ohe_cat)"
   ]
  },
  {
   "cell_type": "code",
   "execution_count": 27,
   "id": "7f6edaba",
   "metadata": {},
   "outputs": [],
   "source": [
    "# Unión de ambos conjuntos. Eliminamos las que ya hemos codificado con One-Hot.\n",
    "data_encode = pd.concat([data_ohe_cat, data_le], axis = 1)\n",
    "data_encode = data_encode.drop(columns=['destination', 'passanger', 'maritalStatus', 'occupation', 'coupon', 'weather'])"
   ]
  },
  {
   "cell_type": "code",
   "execution_count": 28,
   "id": "34e5f421",
   "metadata": {},
   "outputs": [],
   "source": [
    "data_encode = data_encode.astype(object)"
   ]
  },
  {
   "cell_type": "code",
   "execution_count": 29,
   "id": "0494f85b",
   "metadata": {},
   "outputs": [],
   "source": [
    "# INTRODUCIR RUTA PARA GUARDAR \"Dataset_Final.xlsx\"\n",
    "ruta_archivo = 'INTRODUCIR_RUTA_PARA_GUARDAR_ARCHIVO/Dataset_Final.xlsx'"
   ]
  },
  {
   "cell_type": "code",
   "execution_count": 30,
   "id": "27c872d1",
   "metadata": {},
   "outputs": [],
   "source": [
    "data_encode.to_excel(ruta_archivo, index=False, engine='xlsxwriter')"
   ]
  }
 ],
 "metadata": {
  "kernelspec": {
   "display_name": "Python 3 (ipykernel)",
   "language": "python",
   "name": "python3"
  },
  "language_info": {
   "codemirror_mode": {
    "name": "ipython",
    "version": 3
   },
   "file_extension": ".py",
   "mimetype": "text/x-python",
   "name": "python",
   "nbconvert_exporter": "python",
   "pygments_lexer": "ipython3",
   "version": "3.9.13"
  }
 },
 "nbformat": 4,
 "nbformat_minor": 5
}
